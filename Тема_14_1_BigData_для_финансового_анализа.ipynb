{
  "cells": [
    {
      "cell_type": "markdown",
      "metadata": {
        "id": "view-in-github",
        "colab_type": "text"
      },
      "source": [
        "<a href=\"https://colab.research.google.com/github/MatveiV/ML_Fin_Notebooks/blob/main/%D0%A2%D0%B5%D0%BC%D0%B0_14_1_BigData_%D0%B4%D0%BB%D1%8F_%D1%84%D0%B8%D0%BD%D0%B0%D0%BD%D1%81%D0%BE%D0%B2%D0%BE%D0%B3%D0%BE_%D0%B0%D0%BD%D0%B0%D0%BB%D0%B8%D0%B7%D0%B0.ipynb\" target=\"_parent\"><img src=\"https://colab.research.google.com/assets/colab-badge.svg\" alt=\"Open In Colab\"/></a>"
      ]
    },
    {
      "cell_type": "code",
      "execution_count": null,
      "metadata": {
        "id": "IRNeFNNliI_g"
      },
      "outputs": [],
      "source": [
        "!pip install asyncmy -qq"
      ]
    },
    {
      "cell_type": "code",
      "execution_count": null,
      "metadata": {
        "colab": {
          "base_uri": "https://localhost:8080/"
        },
        "id": "uSIRZVlDikiN",
        "outputId": "fabd3206-bce7-4372-85b8-c2726830b673"
      },
      "outputs": [
        {
          "output_type": "stream",
          "name": "stdout",
          "text": [
            "Добавляем корутину в event loop.\n"
          ]
        }
      ],
      "source": [
        "import asyncio\n",
        "import os\n",
        "import logging\n",
        "logger = logging.getLogger(__name__)\n",
        "logging.basicConfig(format='%(asctime)s %(message)s', datefmt='%d.%m.%Y %H:%M:%S')\n",
        "\n",
        "from asyncmy import connect\n",
        "from asyncmy.cursors import DictCursor\n",
        "import asyncmy\n",
        "import asyncio\n",
        "import uuid\n",
        "\n",
        "async def insert_rows(conn, cursor):\n",
        "    while True:\n",
        "        await cursor.execute(f\"INSERT INTO default_db.financial_data(`id`,`create_time`) VALUES ('{uuid.uuid4()}','');\"*1000)\n",
        "        await conn.commit()\n",
        "\n",
        "async def get_stats(conn, cursor):\n",
        "    while True:\n",
        "        await cursor.execute(\"SELECT COUNT(`id`) AS id FROM default_db.financial_data;\")\n",
        "        result = await cursor.fetchone()\n",
        "        logging.info(f\"Count: {result['id']}\")\n",
        "\n",
        "        await cursor.execute(\"SELECT MAX(`id`) AS id FROM default_db.financial_data;\")\n",
        "        result = await cursor.fetchone()\n",
        "        logging.info(f\"Max id: {result['id']}\")\n",
        "\n",
        "async def run():\n",
        "  try:\n",
        "    conn = await connect(user = \"gen_user\",\n",
        "            password = \"L.5O1etKjGcw>u\",\n",
        "            host = \"94.241.139.196\",\n",
        "            database = \"default_db\",\n",
        "            port = 3306)\n",
        "    if conn:\n",
        "      logging.info(\"Успешно создано соединение с базой данных\")\n",
        "\n",
        "    async with conn.cursor(cursor=DictCursor) as cursor:\n",
        "        await cursor.execute(\"\"\"\n",
        "                            CREATE TABLE IF NOT EXISTS `default_db`.`financial_data` (\n",
        "                            `id` VARCHAR(40) NOT NULL,\n",
        "                            `create_time` TIMESTAMP NULL DEFAULT CURRENT_TIMESTAMP\n",
        "                            ) ENGINE=InnoDB DEFAULT CHARSET=utf8mb4 COLLATE=utf8mb4_general_ci;\n",
        "                            \"\"\".strip())\n",
        "        logging.info(\"Успешно создана таблица\")\n",
        "        tasks = [insert_rows(conn, cursor), get_stats(conn, cursor)] #бесконечный цикл записи в таблицу\n",
        "        await asyncio.gather(*tasks)\n",
        "\n",
        "  except Exception as e:\n",
        "    logging.error(e, exc_info=True)\n",
        "\n",
        "\n",
        "if __name__ == \"__main__\":\n",
        "  try:\n",
        "      loop = asyncio.get_running_loop()\n",
        "  except RuntimeError:\n",
        "      loop = None\n",
        "  if loop and loop.is_running():\n",
        "      print('Добавляем корутину в event loop.')\n",
        "      tsk = loop.create_task(run())\n",
        "      tsk.add_done_callback(lambda t: logging.info(f'Задача выполнена={t.result()}'))\n",
        "  else:\n",
        "      logging.info('Запускаем новый event loop')\n",
        "      result = asyncio.run(run())"
      ]
    }
  ],
  "metadata": {
    "colab": {
      "provenance": [],
      "include_colab_link": true
    },
    "kernelspec": {
      "display_name": "Python 3",
      "name": "python3"
    },
    "language_info": {
      "name": "python"
    }
  },
  "nbformat": 4,
  "nbformat_minor": 0
}