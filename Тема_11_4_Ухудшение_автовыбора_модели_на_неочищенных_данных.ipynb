{
  "nbformat": 4,
  "nbformat_minor": 0,
  "metadata": {
    "colab": {
      "provenance": [],
      "include_colab_link": true
    },
    "kernelspec": {
      "name": "python3",
      "display_name": "Python 3"
    },
    "language_info": {
      "name": "python"
    },
    "widgets": {
      "application/vnd.jupyter.widget-state+json": {
        "a937a5404569444f8acc8b78f08738c8": {
          "model_module": "@jupyter-widgets/controls",
          "model_name": "HBoxModel",
          "model_module_version": "1.5.0",
          "state": {
            "_dom_classes": [],
            "_model_module": "@jupyter-widgets/controls",
            "_model_module_version": "1.5.0",
            "_model_name": "HBoxModel",
            "_view_count": null,
            "_view_module": "@jupyter-widgets/controls",
            "_view_module_version": "1.5.0",
            "_view_name": "HBoxView",
            "box_style": "",
            "children": [
              "IPY_MODEL_9579354ee18349e1b6b37a03acb77e46",
              "IPY_MODEL_d495bff2738c4204aa9e3626c6b655cf",
              "IPY_MODEL_25f7ce6569f243609fa96a9193dbf0d1"
            ],
            "layout": "IPY_MODEL_cdb5b28d67914b33bf92db0b3a34510e"
          }
        },
        "9579354ee18349e1b6b37a03acb77e46": {
          "model_module": "@jupyter-widgets/controls",
          "model_name": "HTMLModel",
          "model_module_version": "1.5.0",
          "state": {
            "_dom_classes": [],
            "_model_module": "@jupyter-widgets/controls",
            "_model_module_version": "1.5.0",
            "_model_name": "HTMLModel",
            "_view_count": null,
            "_view_module": "@jupyter-widgets/controls",
            "_view_module_version": "1.5.0",
            "_view_name": "HTMLView",
            "description": "",
            "description_tooltip": null,
            "layout": "IPY_MODEL_ba23b70022c24531a113a8b28cde7f79",
            "placeholder": "​",
            "style": "IPY_MODEL_cd8a361824334c24ab32eb6a1fd8b7ca",
            "value": "Optimization Progress: 100%"
          }
        },
        "d495bff2738c4204aa9e3626c6b655cf": {
          "model_module": "@jupyter-widgets/controls",
          "model_name": "FloatProgressModel",
          "model_module_version": "1.5.0",
          "state": {
            "_dom_classes": [],
            "_model_module": "@jupyter-widgets/controls",
            "_model_module_version": "1.5.0",
            "_model_name": "FloatProgressModel",
            "_view_count": null,
            "_view_module": "@jupyter-widgets/controls",
            "_view_module_version": "1.5.0",
            "_view_name": "ProgressView",
            "bar_style": "",
            "description": "",
            "description_tooltip": null,
            "layout": "IPY_MODEL_85685ddc91304745bafbec2b1d04d071",
            "max": 300,
            "min": 0,
            "orientation": "horizontal",
            "style": "IPY_MODEL_2a81f36fa83545229259216fd2685aae",
            "value": 300
          }
        },
        "25f7ce6569f243609fa96a9193dbf0d1": {
          "model_module": "@jupyter-widgets/controls",
          "model_name": "HTMLModel",
          "model_module_version": "1.5.0",
          "state": {
            "_dom_classes": [],
            "_model_module": "@jupyter-widgets/controls",
            "_model_module_version": "1.5.0",
            "_model_name": "HTMLModel",
            "_view_count": null,
            "_view_module": "@jupyter-widgets/controls",
            "_view_module_version": "1.5.0",
            "_view_name": "HTMLView",
            "description": "",
            "description_tooltip": null,
            "layout": "IPY_MODEL_2bd969a918a34cd693caf7a3c4404e4f",
            "placeholder": "​",
            "style": "IPY_MODEL_58de82e0e454411699cc472084af910f",
            "value": " 300/300 [01:30&lt;00:00,  2.94pipeline/s]"
          }
        },
        "cdb5b28d67914b33bf92db0b3a34510e": {
          "model_module": "@jupyter-widgets/base",
          "model_name": "LayoutModel",
          "model_module_version": "1.2.0",
          "state": {
            "_model_module": "@jupyter-widgets/base",
            "_model_module_version": "1.2.0",
            "_model_name": "LayoutModel",
            "_view_count": null,
            "_view_module": "@jupyter-widgets/base",
            "_view_module_version": "1.2.0",
            "_view_name": "LayoutView",
            "align_content": null,
            "align_items": null,
            "align_self": null,
            "border": null,
            "bottom": null,
            "display": null,
            "flex": null,
            "flex_flow": null,
            "grid_area": null,
            "grid_auto_columns": null,
            "grid_auto_flow": null,
            "grid_auto_rows": null,
            "grid_column": null,
            "grid_gap": null,
            "grid_row": null,
            "grid_template_areas": null,
            "grid_template_columns": null,
            "grid_template_rows": null,
            "height": null,
            "justify_content": null,
            "justify_items": null,
            "left": null,
            "margin": null,
            "max_height": null,
            "max_width": null,
            "min_height": null,
            "min_width": null,
            "object_fit": null,
            "object_position": null,
            "order": null,
            "overflow": null,
            "overflow_x": null,
            "overflow_y": null,
            "padding": null,
            "right": null,
            "top": null,
            "visibility": "hidden",
            "width": null
          }
        },
        "ba23b70022c24531a113a8b28cde7f79": {
          "model_module": "@jupyter-widgets/base",
          "model_name": "LayoutModel",
          "model_module_version": "1.2.0",
          "state": {
            "_model_module": "@jupyter-widgets/base",
            "_model_module_version": "1.2.0",
            "_model_name": "LayoutModel",
            "_view_count": null,
            "_view_module": "@jupyter-widgets/base",
            "_view_module_version": "1.2.0",
            "_view_name": "LayoutView",
            "align_content": null,
            "align_items": null,
            "align_self": null,
            "border": null,
            "bottom": null,
            "display": null,
            "flex": null,
            "flex_flow": null,
            "grid_area": null,
            "grid_auto_columns": null,
            "grid_auto_flow": null,
            "grid_auto_rows": null,
            "grid_column": null,
            "grid_gap": null,
            "grid_row": null,
            "grid_template_areas": null,
            "grid_template_columns": null,
            "grid_template_rows": null,
            "height": null,
            "justify_content": null,
            "justify_items": null,
            "left": null,
            "margin": null,
            "max_height": null,
            "max_width": null,
            "min_height": null,
            "min_width": null,
            "object_fit": null,
            "object_position": null,
            "order": null,
            "overflow": null,
            "overflow_x": null,
            "overflow_y": null,
            "padding": null,
            "right": null,
            "top": null,
            "visibility": null,
            "width": null
          }
        },
        "cd8a361824334c24ab32eb6a1fd8b7ca": {
          "model_module": "@jupyter-widgets/controls",
          "model_name": "DescriptionStyleModel",
          "model_module_version": "1.5.0",
          "state": {
            "_model_module": "@jupyter-widgets/controls",
            "_model_module_version": "1.5.0",
            "_model_name": "DescriptionStyleModel",
            "_view_count": null,
            "_view_module": "@jupyter-widgets/base",
            "_view_module_version": "1.2.0",
            "_view_name": "StyleView",
            "description_width": ""
          }
        },
        "85685ddc91304745bafbec2b1d04d071": {
          "model_module": "@jupyter-widgets/base",
          "model_name": "LayoutModel",
          "model_module_version": "1.2.0",
          "state": {
            "_model_module": "@jupyter-widgets/base",
            "_model_module_version": "1.2.0",
            "_model_name": "LayoutModel",
            "_view_count": null,
            "_view_module": "@jupyter-widgets/base",
            "_view_module_version": "1.2.0",
            "_view_name": "LayoutView",
            "align_content": null,
            "align_items": null,
            "align_self": null,
            "border": null,
            "bottom": null,
            "display": null,
            "flex": null,
            "flex_flow": null,
            "grid_area": null,
            "grid_auto_columns": null,
            "grid_auto_flow": null,
            "grid_auto_rows": null,
            "grid_column": null,
            "grid_gap": null,
            "grid_row": null,
            "grid_template_areas": null,
            "grid_template_columns": null,
            "grid_template_rows": null,
            "height": null,
            "justify_content": null,
            "justify_items": null,
            "left": null,
            "margin": null,
            "max_height": null,
            "max_width": null,
            "min_height": null,
            "min_width": null,
            "object_fit": null,
            "object_position": null,
            "order": null,
            "overflow": null,
            "overflow_x": null,
            "overflow_y": null,
            "padding": null,
            "right": null,
            "top": null,
            "visibility": null,
            "width": null
          }
        },
        "2a81f36fa83545229259216fd2685aae": {
          "model_module": "@jupyter-widgets/controls",
          "model_name": "ProgressStyleModel",
          "model_module_version": "1.5.0",
          "state": {
            "_model_module": "@jupyter-widgets/controls",
            "_model_module_version": "1.5.0",
            "_model_name": "ProgressStyleModel",
            "_view_count": null,
            "_view_module": "@jupyter-widgets/base",
            "_view_module_version": "1.2.0",
            "_view_name": "StyleView",
            "bar_color": null,
            "description_width": ""
          }
        },
        "2bd969a918a34cd693caf7a3c4404e4f": {
          "model_module": "@jupyter-widgets/base",
          "model_name": "LayoutModel",
          "model_module_version": "1.2.0",
          "state": {
            "_model_module": "@jupyter-widgets/base",
            "_model_module_version": "1.2.0",
            "_model_name": "LayoutModel",
            "_view_count": null,
            "_view_module": "@jupyter-widgets/base",
            "_view_module_version": "1.2.0",
            "_view_name": "LayoutView",
            "align_content": null,
            "align_items": null,
            "align_self": null,
            "border": null,
            "bottom": null,
            "display": null,
            "flex": null,
            "flex_flow": null,
            "grid_area": null,
            "grid_auto_columns": null,
            "grid_auto_flow": null,
            "grid_auto_rows": null,
            "grid_column": null,
            "grid_gap": null,
            "grid_row": null,
            "grid_template_areas": null,
            "grid_template_columns": null,
            "grid_template_rows": null,
            "height": null,
            "justify_content": null,
            "justify_items": null,
            "left": null,
            "margin": null,
            "max_height": null,
            "max_width": null,
            "min_height": null,
            "min_width": null,
            "object_fit": null,
            "object_position": null,
            "order": null,
            "overflow": null,
            "overflow_x": null,
            "overflow_y": null,
            "padding": null,
            "right": null,
            "top": null,
            "visibility": null,
            "width": null
          }
        },
        "58de82e0e454411699cc472084af910f": {
          "model_module": "@jupyter-widgets/controls",
          "model_name": "DescriptionStyleModel",
          "model_module_version": "1.5.0",
          "state": {
            "_model_module": "@jupyter-widgets/controls",
            "_model_module_version": "1.5.0",
            "_model_name": "DescriptionStyleModel",
            "_view_count": null,
            "_view_module": "@jupyter-widgets/base",
            "_view_module_version": "1.2.0",
            "_view_name": "StyleView",
            "description_width": ""
          }
        },
        "e9e6d2aa7bb346e995ab966cb9da4bd0": {
          "model_module": "@jupyter-widgets/controls",
          "model_name": "HBoxModel",
          "model_module_version": "1.5.0",
          "state": {
            "_dom_classes": [],
            "_model_module": "@jupyter-widgets/controls",
            "_model_module_version": "1.5.0",
            "_model_name": "HBoxModel",
            "_view_count": null,
            "_view_module": "@jupyter-widgets/controls",
            "_view_module_version": "1.5.0",
            "_view_name": "HBoxView",
            "box_style": "",
            "children": [
              "IPY_MODEL_367b057177f947c6a7937c5b5941be70",
              "IPY_MODEL_f38f3dda215c4b1eaf97b9b59283e10f",
              "IPY_MODEL_8b8efa526af64811808430463db024c1"
            ],
            "layout": "IPY_MODEL_9027e9b7b41340dd97ba128337f7c927"
          }
        },
        "367b057177f947c6a7937c5b5941be70": {
          "model_module": "@jupyter-widgets/controls",
          "model_name": "HTMLModel",
          "model_module_version": "1.5.0",
          "state": {
            "_dom_classes": [],
            "_model_module": "@jupyter-widgets/controls",
            "_model_module_version": "1.5.0",
            "_model_name": "HTMLModel",
            "_view_count": null,
            "_view_module": "@jupyter-widgets/controls",
            "_view_module_version": "1.5.0",
            "_view_name": "HTMLView",
            "description": "",
            "description_tooltip": null,
            "layout": "IPY_MODEL_4b90f03b2f96410d88018092117a8ade",
            "placeholder": "​",
            "style": "IPY_MODEL_7bbb9322db70438fb80890e2e660ac02",
            "value": "Optimization Progress: 100%"
          }
        },
        "f38f3dda215c4b1eaf97b9b59283e10f": {
          "model_module": "@jupyter-widgets/controls",
          "model_name": "FloatProgressModel",
          "model_module_version": "1.5.0",
          "state": {
            "_dom_classes": [],
            "_model_module": "@jupyter-widgets/controls",
            "_model_module_version": "1.5.0",
            "_model_name": "FloatProgressModel",
            "_view_count": null,
            "_view_module": "@jupyter-widgets/controls",
            "_view_module_version": "1.5.0",
            "_view_name": "ProgressView",
            "bar_style": "",
            "description": "",
            "description_tooltip": null,
            "layout": "IPY_MODEL_df357f7f3bd440229322caee01876da8",
            "max": 300,
            "min": 0,
            "orientation": "horizontal",
            "style": "IPY_MODEL_fda98e417fef4703b52c1ebbd0dfe611",
            "value": 300
          }
        },
        "8b8efa526af64811808430463db024c1": {
          "model_module": "@jupyter-widgets/controls",
          "model_name": "HTMLModel",
          "model_module_version": "1.5.0",
          "state": {
            "_dom_classes": [],
            "_model_module": "@jupyter-widgets/controls",
            "_model_module_version": "1.5.0",
            "_model_name": "HTMLModel",
            "_view_count": null,
            "_view_module": "@jupyter-widgets/controls",
            "_view_module_version": "1.5.0",
            "_view_name": "HTMLView",
            "description": "",
            "description_tooltip": null,
            "layout": "IPY_MODEL_99bebf6d9488403ea98777582925eedc",
            "placeholder": "​",
            "style": "IPY_MODEL_1577bb5d45354451bb3e812f3ddc4b68",
            "value": " 300/300 [01:08&lt;00:00,  7.86pipeline/s]"
          }
        },
        "9027e9b7b41340dd97ba128337f7c927": {
          "model_module": "@jupyter-widgets/base",
          "model_name": "LayoutModel",
          "model_module_version": "1.2.0",
          "state": {
            "_model_module": "@jupyter-widgets/base",
            "_model_module_version": "1.2.0",
            "_model_name": "LayoutModel",
            "_view_count": null,
            "_view_module": "@jupyter-widgets/base",
            "_view_module_version": "1.2.0",
            "_view_name": "LayoutView",
            "align_content": null,
            "align_items": null,
            "align_self": null,
            "border": null,
            "bottom": null,
            "display": null,
            "flex": null,
            "flex_flow": null,
            "grid_area": null,
            "grid_auto_columns": null,
            "grid_auto_flow": null,
            "grid_auto_rows": null,
            "grid_column": null,
            "grid_gap": null,
            "grid_row": null,
            "grid_template_areas": null,
            "grid_template_columns": null,
            "grid_template_rows": null,
            "height": null,
            "justify_content": null,
            "justify_items": null,
            "left": null,
            "margin": null,
            "max_height": null,
            "max_width": null,
            "min_height": null,
            "min_width": null,
            "object_fit": null,
            "object_position": null,
            "order": null,
            "overflow": null,
            "overflow_x": null,
            "overflow_y": null,
            "padding": null,
            "right": null,
            "top": null,
            "visibility": "hidden",
            "width": null
          }
        },
        "4b90f03b2f96410d88018092117a8ade": {
          "model_module": "@jupyter-widgets/base",
          "model_name": "LayoutModel",
          "model_module_version": "1.2.0",
          "state": {
            "_model_module": "@jupyter-widgets/base",
            "_model_module_version": "1.2.0",
            "_model_name": "LayoutModel",
            "_view_count": null,
            "_view_module": "@jupyter-widgets/base",
            "_view_module_version": "1.2.0",
            "_view_name": "LayoutView",
            "align_content": null,
            "align_items": null,
            "align_self": null,
            "border": null,
            "bottom": null,
            "display": null,
            "flex": null,
            "flex_flow": null,
            "grid_area": null,
            "grid_auto_columns": null,
            "grid_auto_flow": null,
            "grid_auto_rows": null,
            "grid_column": null,
            "grid_gap": null,
            "grid_row": null,
            "grid_template_areas": null,
            "grid_template_columns": null,
            "grid_template_rows": null,
            "height": null,
            "justify_content": null,
            "justify_items": null,
            "left": null,
            "margin": null,
            "max_height": null,
            "max_width": null,
            "min_height": null,
            "min_width": null,
            "object_fit": null,
            "object_position": null,
            "order": null,
            "overflow": null,
            "overflow_x": null,
            "overflow_y": null,
            "padding": null,
            "right": null,
            "top": null,
            "visibility": null,
            "width": null
          }
        },
        "7bbb9322db70438fb80890e2e660ac02": {
          "model_module": "@jupyter-widgets/controls",
          "model_name": "DescriptionStyleModel",
          "model_module_version": "1.5.0",
          "state": {
            "_model_module": "@jupyter-widgets/controls",
            "_model_module_version": "1.5.0",
            "_model_name": "DescriptionStyleModel",
            "_view_count": null,
            "_view_module": "@jupyter-widgets/base",
            "_view_module_version": "1.2.0",
            "_view_name": "StyleView",
            "description_width": ""
          }
        },
        "df357f7f3bd440229322caee01876da8": {
          "model_module": "@jupyter-widgets/base",
          "model_name": "LayoutModel",
          "model_module_version": "1.2.0",
          "state": {
            "_model_module": "@jupyter-widgets/base",
            "_model_module_version": "1.2.0",
            "_model_name": "LayoutModel",
            "_view_count": null,
            "_view_module": "@jupyter-widgets/base",
            "_view_module_version": "1.2.0",
            "_view_name": "LayoutView",
            "align_content": null,
            "align_items": null,
            "align_self": null,
            "border": null,
            "bottom": null,
            "display": null,
            "flex": null,
            "flex_flow": null,
            "grid_area": null,
            "grid_auto_columns": null,
            "grid_auto_flow": null,
            "grid_auto_rows": null,
            "grid_column": null,
            "grid_gap": null,
            "grid_row": null,
            "grid_template_areas": null,
            "grid_template_columns": null,
            "grid_template_rows": null,
            "height": null,
            "justify_content": null,
            "justify_items": null,
            "left": null,
            "margin": null,
            "max_height": null,
            "max_width": null,
            "min_height": null,
            "min_width": null,
            "object_fit": null,
            "object_position": null,
            "order": null,
            "overflow": null,
            "overflow_x": null,
            "overflow_y": null,
            "padding": null,
            "right": null,
            "top": null,
            "visibility": null,
            "width": null
          }
        },
        "fda98e417fef4703b52c1ebbd0dfe611": {
          "model_module": "@jupyter-widgets/controls",
          "model_name": "ProgressStyleModel",
          "model_module_version": "1.5.0",
          "state": {
            "_model_module": "@jupyter-widgets/controls",
            "_model_module_version": "1.5.0",
            "_model_name": "ProgressStyleModel",
            "_view_count": null,
            "_view_module": "@jupyter-widgets/base",
            "_view_module_version": "1.2.0",
            "_view_name": "StyleView",
            "bar_color": null,
            "description_width": ""
          }
        },
        "99bebf6d9488403ea98777582925eedc": {
          "model_module": "@jupyter-widgets/base",
          "model_name": "LayoutModel",
          "model_module_version": "1.2.0",
          "state": {
            "_model_module": "@jupyter-widgets/base",
            "_model_module_version": "1.2.0",
            "_model_name": "LayoutModel",
            "_view_count": null,
            "_view_module": "@jupyter-widgets/base",
            "_view_module_version": "1.2.0",
            "_view_name": "LayoutView",
            "align_content": null,
            "align_items": null,
            "align_self": null,
            "border": null,
            "bottom": null,
            "display": null,
            "flex": null,
            "flex_flow": null,
            "grid_area": null,
            "grid_auto_columns": null,
            "grid_auto_flow": null,
            "grid_auto_rows": null,
            "grid_column": null,
            "grid_gap": null,
            "grid_row": null,
            "grid_template_areas": null,
            "grid_template_columns": null,
            "grid_template_rows": null,
            "height": null,
            "justify_content": null,
            "justify_items": null,
            "left": null,
            "margin": null,
            "max_height": null,
            "max_width": null,
            "min_height": null,
            "min_width": null,
            "object_fit": null,
            "object_position": null,
            "order": null,
            "overflow": null,
            "overflow_x": null,
            "overflow_y": null,
            "padding": null,
            "right": null,
            "top": null,
            "visibility": null,
            "width": null
          }
        },
        "1577bb5d45354451bb3e812f3ddc4b68": {
          "model_module": "@jupyter-widgets/controls",
          "model_name": "DescriptionStyleModel",
          "model_module_version": "1.5.0",
          "state": {
            "_model_module": "@jupyter-widgets/controls",
            "_model_module_version": "1.5.0",
            "_model_name": "DescriptionStyleModel",
            "_view_count": null,
            "_view_module": "@jupyter-widgets/base",
            "_view_module_version": "1.2.0",
            "_view_name": "StyleView",
            "description_width": ""
          }
        }
      }
    }
  },
  "cells": [
    {
      "cell_type": "markdown",
      "metadata": {
        "id": "view-in-github",
        "colab_type": "text"
      },
      "source": [
        "<a href=\"https://colab.research.google.com/github/MatveiV/ML_Fin_Notebooks/blob/main/%D0%A2%D0%B5%D0%BC%D0%B0_11_4_%D0%A3%D1%85%D1%83%D0%B4%D1%88%D0%B5%D0%BD%D0%B8%D0%B5_%D0%B0%D0%B2%D1%82%D0%BE%D0%B2%D1%8B%D0%B1%D0%BE%D1%80%D0%B0_%D0%BC%D0%BE%D0%B4%D0%B5%D0%BB%D0%B8_%D0%BD%D0%B0_%D0%BD%D0%B5%D0%BE%D1%87%D0%B8%D1%89%D0%B5%D0%BD%D0%BD%D1%8B%D1%85_%D0%B4%D0%B0%D0%BD%D0%BD%D1%8B%D1%85.ipynb\" target=\"_parent\"><img src=\"https://colab.research.google.com/assets/colab-badge.svg\" alt=\"Open In Colab\"/></a>"
      ]
    },
    {
      "cell_type": "markdown",
      "source": [
        "## Автоматический подбор моделей машинного обучения\n",
        "\n",
        "Автоматическое машинное обучение не заменяет специалиста по данным, но оно может помочь вам быстрее находить хорошие модели. Одним из фреймворков является [TPOT](https://github.com/EpistasisLab/tpot) (Tree-based Pipeline Optimization Tool), который позиционирует себя как Ваш помощник по науке о данных.\n",
        "\n",
        "TPOT должен быть помощником, который дает вам идеи о том, как решить конкретную проблему машинного обучения, исследуя конфигурации конвейера, которые вы, возможно, никогда не рассматривали, а затем оставляет тонкую настройку более ограниченным методам настройки параметров, таким как поиск по сетке.\n",
        "\n",
        "Таким образом, TPOT помогает вам находить хорошие алгоритмы."
      ],
      "metadata": {
        "id": "fz39fRNI6Urt"
      }
    },
    {
      "cell_type": "code",
      "source": [
        "!pip install tpot -qq"
      ],
      "metadata": {
        "id": "2CVIOUuv0iay"
      },
      "execution_count": null,
      "outputs": []
    },
    {
      "cell_type": "code",
      "source": [
        "from tpot import TPOTClassifier\n",
        "from sklearn.datasets import load_iris\n",
        "from sklearn.model_selection import train_test_split\n",
        "\n",
        "digits = load_iris()\n",
        "X_train, X_test, y_train, y_test = train_test_split(digits.data, digits.target,\n",
        "                                                    train_size=0.55, test_size=0.45, random_state=42)\n",
        "\n",
        "tpot = TPOTClassifier(generations=5, population_size=50, verbosity=2, random_state=42)\n",
        "tpot.fit(X_train, y_train)\n",
        "print(tpot.score(X_test, y_test))"
      ],
      "metadata": {
        "colab": {
          "base_uri": "https://localhost:8080/",
          "height": 254,
          "referenced_widgets": [
            "a937a5404569444f8acc8b78f08738c8",
            "9579354ee18349e1b6b37a03acb77e46",
            "d495bff2738c4204aa9e3626c6b655cf",
            "25f7ce6569f243609fa96a9193dbf0d1",
            "cdb5b28d67914b33bf92db0b3a34510e",
            "ba23b70022c24531a113a8b28cde7f79",
            "cd8a361824334c24ab32eb6a1fd8b7ca",
            "85685ddc91304745bafbec2b1d04d071",
            "2a81f36fa83545229259216fd2685aae",
            "2bd969a918a34cd693caf7a3c4404e4f",
            "58de82e0e454411699cc472084af910f"
          ]
        },
        "id": "_htDFlZK0ZhX",
        "outputId": "33b11c41-6bbf-44c7-984e-4e5a452fb451"
      },
      "execution_count": null,
      "outputs": [
        {
          "output_type": "display_data",
          "data": {
            "text/plain": [
              "Optimization Progress:   0%|          | 0/300 [00:00<?, ?pipeline/s]"
            ],
            "application/vnd.jupyter.widget-view+json": {
              "version_major": 2,
              "version_minor": 0,
              "model_id": "a937a5404569444f8acc8b78f08738c8"
            }
          },
          "metadata": {}
        },
        {
          "output_type": "stream",
          "name": "stdout",
          "text": [
            "\n",
            "Generation 1 - Current best internal CV score: 0.9647058823529411\n",
            "\n",
            "Generation 2 - Current best internal CV score: 0.9647058823529411\n",
            "\n",
            "Generation 3 - Current best internal CV score: 0.9647058823529411\n",
            "\n",
            "Generation 4 - Current best internal CV score: 0.9647058823529411\n",
            "\n",
            "Generation 5 - Current best internal CV score: 0.9647058823529411\n",
            "\n",
            "Best pipeline: MLPClassifier(input_matrix, alpha=0.0001, learning_rate_init=0.001)\n",
            "1.0\n"
          ]
        }
      ]
    },
    {
      "cell_type": "code",
      "source": [
        "import random\n",
        "for i in X_train:\n",
        "  for j in range(len(i)):\n",
        "    X_train[random.randint(0,len(X_train)-1)][random.randint(0,len(i)-1)]=None\n",
        "X_train"
      ],
      "metadata": {
        "colab": {
          "base_uri": "https://localhost:8080/"
        },
        "id": "HzKoRC0u4NOl",
        "outputId": "b6f3c6a9-b1b1-427c-eaf1-9466b1d82323"
      },
      "execution_count": null,
      "outputs": [
        {
          "output_type": "execute_result",
          "data": {
            "text/plain": [
              "array([[4.6, 3.2, nan, 0.2],\n",
              "       [6.2, 2.9, nan, nan],\n",
              "       [nan, 2.5, nan, nan],\n",
              "       [5.5, nan, nan, nan],\n",
              "       [nan, nan, 4.8, nan],\n",
              "       [nan, nan, nan, 1.9],\n",
              "       [6. , 2.2, 4. , nan],\n",
              "       [nan, nan, 4.5, nan],\n",
              "       [6.2, nan, nan, 2.3],\n",
              "       [nan, nan, nan, 1.3],\n",
              "       [nan, nan, nan, nan],\n",
              "       [5. , nan, nan, nan],\n",
              "       [6.4, nan, nan, nan],\n",
              "       [nan, nan, 1.4, 0.2],\n",
              "       [5. , 3.2, nan, nan],\n",
              "       [nan, 2.4, 3.8, nan],\n",
              "       [nan, nan, nan, 1.7],\n",
              "       [nan, 3.1, nan, nan],\n",
              "       [nan, nan, 5.1, nan],\n",
              "       [nan, nan, nan, 0.2],\n",
              "       [nan, nan, 1.6, nan],\n",
              "       [5.9, 3.2, nan, nan],\n",
              "       [nan, nan, nan, nan],\n",
              "       [nan, 3.2, nan, nan],\n",
              "       [6. , 2.7, 5.1, nan],\n",
              "       [nan, nan, nan, 1.4],\n",
              "       [7.7, nan, nan, nan],\n",
              "       [nan, nan, nan, nan],\n",
              "       [4.4, nan, nan, nan],\n",
              "       [nan, 3. , nan, 0.1],\n",
              "       [nan, 2.2, nan, 1.5],\n",
              "       [nan, nan, nan, nan],\n",
              "       [nan, 3.1, 1.5, 0.2],\n",
              "       [nan, nan, nan, 0.3],\n",
              "       [nan, nan, nan, nan],\n",
              "       [nan, 2.5, nan, nan],\n",
              "       [nan, 3.4, nan, 2.4],\n",
              "       [nan, nan, 1.4, nan],\n",
              "       [nan, 3. , nan, nan],\n",
              "       [nan, nan, nan, nan],\n",
              "       [nan, nan, nan, nan],\n",
              "       [6.1, nan, 4.7, 1.4],\n",
              "       [nan, nan, 4.6, nan],\n",
              "       [6.2, nan, nan, nan],\n",
              "       [7. , nan, nan, nan],\n",
              "       [nan, nan, 5.3, 2.3],\n",
              "       [nan, nan, 1.6, 0.2],\n",
              "       [6.9, nan, 5.4, nan],\n",
              "       [5.9, nan, nan, 1.5],\n",
              "       [nan, nan, nan, nan],\n",
              "       [nan, 2.6, nan, nan],\n",
              "       [nan, 2.7, nan, nan],\n",
              "       [nan, 3. , nan, nan],\n",
              "       [4.5, 2.3, 1.3, nan],\n",
              "       [nan, nan, 4.6, nan],\n",
              "       [nan, nan, 4.4, 1.2],\n",
              "       [5.3, nan, nan, nan],\n",
              "       [nan, 3. , 4.1, 1.3],\n",
              "       [nan, 2.9, nan, 1.8],\n",
              "       [nan, 3.3, nan, nan],\n",
              "       [5.1, 3.7, nan, 0.4],\n",
              "       [4.9, 2.4, 3.3, nan],\n",
              "       [6.7, 3.3, nan, 2.5],\n",
              "       [7.2, nan, nan, nan],\n",
              "       [4.9, nan, nan, nan],\n",
              "       [6.7, nan, nan, 2.4],\n",
              "       [nan, 3. , 1.4, nan],\n",
              "       [6.9, nan, nan, 1.5],\n",
              "       [7.4, 2.8, nan, nan],\n",
              "       [6.3, 2.9, 5.6, nan],\n",
              "       [nan, 2.8, nan, nan],\n",
              "       [6.5, nan, nan, nan],\n",
              "       [nan, nan, nan, 1.3],\n",
              "       [nan, nan, 4.3, nan],\n",
              "       [nan, nan, nan, 2. ],\n",
              "       [5.9, nan, nan, nan],\n",
              "       [nan, 3.4, nan, nan],\n",
              "       [nan, nan, nan, 1.3],\n",
              "       [4.9, nan, 4.5, 1.7],\n",
              "       [5.8, nan, 1.2, 0.2],\n",
              "       [nan, nan, 4. , nan],\n",
              "       [nan, 3. , nan, nan]])"
            ]
          },
          "metadata": {},
          "execution_count": 3
        }
      ]
    },
    {
      "cell_type": "code",
      "source": [
        "tpot.fit(X_train, y_train)\n",
        "print(tpot.score(X_test, y_test))"
      ],
      "metadata": {
        "colab": {
          "base_uri": "https://localhost:8080/",
          "height": 291,
          "referenced_widgets": [
            "e9e6d2aa7bb346e995ab966cb9da4bd0",
            "367b057177f947c6a7937c5b5941be70",
            "f38f3dda215c4b1eaf97b9b59283e10f",
            "8b8efa526af64811808430463db024c1",
            "9027e9b7b41340dd97ba128337f7c927",
            "4b90f03b2f96410d88018092117a8ade",
            "7bbb9322db70438fb80890e2e660ac02",
            "df357f7f3bd440229322caee01876da8",
            "fda98e417fef4703b52c1ebbd0dfe611",
            "99bebf6d9488403ea98777582925eedc",
            "1577bb5d45354451bb3e812f3ddc4b68"
          ]
        },
        "id": "000uXJ7S4o_O",
        "outputId": "5c77b4c4-e87d-4452-d51c-b24f317fc5fe"
      },
      "execution_count": null,
      "outputs": [
        {
          "output_type": "stream",
          "name": "stdout",
          "text": [
            "Imputing missing values in feature set\n"
          ]
        },
        {
          "output_type": "display_data",
          "data": {
            "text/plain": [
              "Optimization Progress:   0%|          | 0/300 [00:00<?, ?pipeline/s]"
            ],
            "application/vnd.jupyter.widget-view+json": {
              "version_major": 2,
              "version_minor": 0,
              "model_id": "e9e6d2aa7bb346e995ab966cb9da4bd0"
            }
          },
          "metadata": {}
        },
        {
          "output_type": "stream",
          "name": "stdout",
          "text": [
            "\n",
            "Generation 1 - Current best internal CV score: 0.6727941176470589\n",
            "\n",
            "Generation 2 - Current best internal CV score: 0.6823529411764706\n",
            "\n",
            "Generation 3 - Current best internal CV score: 0.6838235294117647\n",
            "\n",
            "Generation 4 - Current best internal CV score: 0.6955882352941176\n",
            "\n",
            "Generation 5 - Current best internal CV score: 0.6955882352941176\n",
            "\n",
            "Best pipeline: LogisticRegression(MinMaxScaler(input_matrix), C=25.0, dual=False, penalty=l2)\n",
            "Imputing missing values in feature set\n",
            "0.8676470588235294\n"
          ]
        }
      ]
    },
    {
      "cell_type": "markdown",
      "source": [
        "Вывод: используя один набор данных автоматически был выбран классификатор MLPClassifier с точностью 0.96, на неочищенный набор данных автоматически был выбран классификатор LogisticRegression с точностью 0,69  "
      ],
      "metadata": {
        "id": "_ACrEb-pbain"
      }
    }
  ]
}