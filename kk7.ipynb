import pandas as pd
import numpy as np
import yfinance as yf
import ta
import os
import datetime
import matplotlib.pyplot as plt
import seaborn as sns
import featuretools as ft
from sklearn.preprocessing import StandardScaler, MinMaxScaler
from scipy import stats
from sklearn.model_selection import train_test_split, TimeSeriesSplit
from sklearn.ensemble import RandomForestRegressor
from sklearn.metrics import mean_absolute_error, mean_squared_error, r2_score
from sklearn.inspection import permutation_importance
import shap
import warnings
from typing import List, Tuple
import backtrader as bt
from backtrader.feeds import PandasData
from ipywidgets import widgets, interact, interactive, fixed, interact_manual
from IPython.display import display, clear_output

warnings.filterwarnings('ignore')

# ---------------------------------------------------------------
# КЛАСС ДЛЯ БЭКТЕСТИНГА С ИНТЕГРАЦИЕЙ ML
# ---------------------------------------------------------------
class MLStrategy(bt.Strategy):
    params = (
        ('model', None),
        ('lookback', 20),
        ('risk_percent', 2.0),
    )

    def __init__(self):
        self.model = self.p.model
        self.order = None
        self.dataclose = self.datas[0].close
        self.predicted_prices = []

    def next(self):
        if len(self.data) < self.p.lookback:
            return

        # Подготовка данных для прогноза
        window = self.data.close.get(size=self.p.lookback)
        X = np.array(window).reshape(1, -1)
        prediction = self.model.predict(X)[0]
        self.predicted_prices.append(prediction)

        if len(self.predicted_prices) < 2:
            return

        # Сигналы на основе прогноза
        current_price = self.data.close[0]
        prev_pred = self.predicted_prices[-2]
        
        if prediction > prev_pred and not self.position:
            risk_amount = self.broker.getvalue() * (self.p.risk_percent / 100)
            size = int(risk_amount / current_price)
            self.buy(size=size)
        elif prediction < prev_pred and self.position:
            self.close()

# ---------------------------------------------------------------
# ОСНОВНОЙ КЛАСС КПД
# ---------------------------------------------------------------
class EnhancedDataPipeline:
    def __init__(self, 
                 stocks=['MSTR', 'NVDA', 'COIN'], 
                 cryptos=['BTC-USD', 'ETH-USD', 'SOL-USD'],
                 start_date='2021-01-01',
                 end_date=None):
        
        self.stocks = stocks
        self.cryptos = cryptos
        self.instruments = stocks + cryptos
        self.start_date = start_date
        self.end_date = end_date or datetime.datetime.now().strftime('%Y-%m-%d')
        
        self._init_dirs()
        self._init_widgets()

    def _init_dirs(self):
        os.makedirs('data/raw', exist_ok=True)
        os.makedirs('data/processed', exist_ok=True)
        os.makedirs('data/models', exist_ok=True)
        os.makedirs('data/backtest', exist_ok=True)

    def _init_widgets(self):
        self.status = widgets.Output()
        self.progress = widgets.FloatProgress(value=0.0, min=0.0, max=1.0)

        self.radio = widgets.RadioButtons(
            options=['Авто (a)', 'Ручной'],
            value='Ручной',
            description='Режим загрузки:',
            disabled=False
        )

        self.selectbox = widgets.Dropdown(
            options=self.instruments,
            value=self.instruments[0],
            description='Инструмент:',
            disabled=False
        )

        self.buttons = {
            'download': widgets.Button(description="1. Загрузить данные"),
            'process': widgets.Button(description="2. Обработать данные"),
            'normalize': widgets.Button(description="3. Нормализовать данные"),
            'generate': widgets.Button(description="4. Генерация признаков"),
            'train': widgets.Button(description="5. Обучение ML"),
            'backtest': widgets.Button(description="6. Бэктестинг")
        }

        self.buttons['download'].on_click(self.download_data)
        self.buttons['process'].on_click(self.process_data)
        self.buttons['normalize'].on_click(self.normalize_data)
        self.buttons['generate'].on_click(self.generate_features)
        self.buttons['train'].on_click(self.train_model)
        self.buttons['backtest'].on_click(self.backtest)

    # ---------------------------------------------------------------
    # 1. ЗАГРУЗКА ДАННЫХ
    # ---------------------------------------------------------------
    def _download_instrument(self, instrument):
        try:
            raw_path = f'data/raw/{instrument}.csv'
            
            # Загрузка новых данных
            new_data = yf.download(
                instrument, 
                start=self._get_last_date(raw_path), 
                end=self.end_date
            ).reset_index()
            
            if not new_data.empty:
                new_data = new_data[['Date', 'Close']]
                new_data['Date'] = pd.to_datetime(new_data['Date']).dt.date
                self._merge_data(raw_path, new_data)
                
            return new_data
        except Exception as e:
            print(f"Ошибка загрузки {instrument}: {str(e)}")
            return pd.DataFrame()

    def _get_last_date(self, path):
        if os.path.exists(path):
            existing = pd.read_csv(path)
            return pd.to_datetime(existing['Date']).max() + pd.Timedelta(days=1)
        return self.start_date

    def _merge_data(self, path, new_data):
        if os.path.exists(path):
            existing = pd.read_csv(path)
            combined = pd.concat([existing, new_data]).drop_duplicates('Date')
        else:
            combined = new_data
        combined.to_csv(path, index=False)

    def download_data(self, b):
        mode = self.radio.value
        if mode == 'Авто (a)':
            print("Автоматическая загрузка активирована")
            
            for i, instrument in enumerate(self.instruments):
                self._download_instrument(instrument)
                self.progress.value = (i+1)/len(self.instruments)
                
            print("Данные обновлены!")

    # ---------------------------------------------------------------
    # 2-3. ОБРАБОТКА И ВИЗУАЛИЗАЦИЯ
    # ---------------------------------------------------------------
    def _process_single(self, instrument):
        raw = pd.read_csv(f'data/raw/{instrument}.csv')
        
        # Обработка выбросов
        q_low = raw['Close'].quantile(0.05)
        q_hi = raw['Close'].quantile(0.95)
        filtered = raw[(raw['Close'] > q_low) & (raw['Close'] < q_hi)]
        
        # Заполнение пропусков
        processed = filtered.interpolate().ffill().bfill()
        
        # Сохранение
        processed.to_csv(f'data/processed/{instrument}_processed.csv', index=False)
        
        # Визуализация
        fig, ax = plt.subplots(1, 2, figsize=(15, 5))
        raw['Close'].plot(ax=ax[0], title='Исходные данные')
        processed['Close'].plot(ax=ax[1], title='Обработанные данные')
        plt.savefig(f'data/processed/{instrument}_comparison.png')
        plt.close()
        
        return processed

    def process_data(self, b):
        for i, instrument in enumerate(self.instruments):
            self._process_single(instrument)
            self.progress.value = (i+1)/len(self.instruments)
        print("Обработка завершена!")

    # ---------------------------------------------------------------
    # 4. НОРМАЛИЗАЦИЯ И ВЫБОР МЕТОДА
    # ---------------------------------------------------------------
    def _evaluate_normalization(self, data, method):
        X = data['Close'].values.reshape(-1, 1)
        
        if method == 'Box-Cox':
            X_norm, _ = stats.boxcox(X.flatten() + 1e-6)
        elif method == 'Log':
            X_norm = np.log(X + 1e-6)
        elif method == 'Z-Score':
            X_norm = StandardScaler().fit_transform(X)
        else:
            X_norm = MinMaxScaler().fit_transform(X)
            
        return X_norm.flatten()

    def normalize_data(self, b):
        results = []
        for instrument in self.instruments:
            data = pd.read_csv(f'data/processed/{instrument}_processed.csv')
            
            for method in ['Z-Score', 'Min-Max', 'Box-Cox', 'Log']:
                try:
                    norm_data = self._evaluate_normalization(data, method)
                    
                    # Оценка качества
                    X_train, X_test = norm_data[:-30], norm_data[-30:]
                    model = RandomForestRegressor().fit(X_train[:-1].reshape(-1,1), X_train[1:])
                    pred = model.predict(X_test[:-1].reshape(-1,1))
                    
                    metrics = {
                        'Инструмент': instrument,
                        'Метод': method,
                        'MAE': mean_absolute_error(X_test[1:], pred),
                        'MSE': mean_squared_error(X_test[1:], pred),
                        'R2': r2_score(X_test[1:], pred)
                    }
                    results.append(metrics)
                    
                    # Сохранение
                    pd.DataFrame(norm_data, columns=['Close']).to_csv(
                        f'data/processed/{instrument}_{method}_norm.csv', index=False)
                    
                except Exception as e:
                    print(f"Ошибка {method} для {instrument}: {str(e)}")
        
        # Выбор лучшего метода
        df = pd.DataFrame(results)
        best_methods = df.loc[df.groupby('Инструмент')['R2'].idxmax()]
        display(best_methods)
        best_methods.to_csv('data/best_normalization.csv', index=False)
        
        return best_methods

    # ---------------------------------------------------------------
    # 5-6. ГЕНЕРАЦИЯ И ОЦЕНКА ПРИЗНАКОВ
    # ---------------------------------------------------------------
    def generate_features(self, b):
        for instrument in self.instruments:
            data = pd.read_csv(f'data/processed/{instrument}_processed.csv')
            
            # Технические индикаторы
            data['EMA_20'] = ta.trend.ema_indicator(data['Close'], window=20)
            data['RSI_14'] = ta.momentum.rsi(data['Close'], window=14)
            macd = ta.trend.MACD(data['Close'])
            data['MACD'] = macd.macd()
            data['MACD_Signal'] = macd.macd_signal()
            
            # Корреляция с другими инструментами
            for other in self.instruments:
                if other != instrument:
                    other_data = pd.read_csv(f'data/processed/{other}_processed.csv')['Close']
                    data[f'Corr_{other}'] = data['Close'].rolling(20).corr(other_data)
            
            # Featuretools
            es = ft.EntitySet(id=instrument)
            es = es.add_dataframe(
                dataframe_name=instrument,
                dataframe=data,
                index='index',
                make_index=True
            )
            
            feature_matrix, _ = ft.dfs(
                entityset=es,
                target_dataframe_name=instrument,
                max_depth=2
            )
            
            data = pd.concat([data, feature_matrix], axis=1)
            data.to_csv(f'data/processed/{instrument}_features.csv', index=False)
            
        print("Признаки сгенерированы!")

    # ---------------------------------------------------------------
    # 7-8. ML И БЭКТЕСТИНГ
    # ---------------------------------------------------------------
    def train_model(self, b):
        instrument = self.selectbox.value
        data = pd.read_csv(f'data/processed/{instrument}_features.csv').dropna()
        X = data.drop(['Date', 'Close'], axis=1)
        y = data['Close']
        
        # Временное разделение
        split = int(0.8 * len(X))
        X_train, X_test = X[:split], X[split:]
        y_train, y_test = y[:split], y[split:]
        
        model = RandomForestRegressor(n_estimators=100).fit(X_train, y_train)
        self.model = model
        print(f"Модель для {instrument} обучена!")

    def backtest(self, b):
        instrument = self.selectbox.value
        model = self.model
        cerebro = bt.Cerebro()
        
        # Загрузка данных
        data = pd.read_csv(f'data/processed/{instrument}_features.csv')
        data['Date'] = pd.to_datetime(data['Date'])
        data.set_index('Date', inplace=True)
        feed = PandasData(dataname=data)
        cerebro.adddata(feed)
        
        # Добавление стратегии
        if model:
            cerebro.addstrategy(MLStrategy, model=model)
        else:
            cerebro.addstrategy(Strategy1)  # Базовая стратегия из задания
            
        # Запуск
        cerebro.run()
        
        # Визуализация
        plt.rcParams['figure.figsize'] = [15, 8]
        cerebro.plot(style='candlestick', iplot=False)
        plt.savefig(f'data/backtest/{instrument}_result.png')
        plt.close()

    # ---------------------------------------------------------------
    # ЗАПУСК КПД
    # ---------------------------------------------------------------
    def run_pipeline(self):
        display(widgets.VBox([
            self.radio,
            self.selectbox,
            self.buttons['download'],
            self.buttons['process'],
            self.buttons['normalize'],
            self.buttons['generate'],
            self.buttons['train'],
            self.buttons['backtest'],
            self.progress,
            self.status
        ]))

# ---------------------------------------------------------------
# ЗАПУСК ПРИЛОЖЕНИЯ
# ---------------------------------------------------------------
if __name__ == "__main__":
    pipeline = EnhancedDataPipeline()
    pipeline.run_pipeline()
